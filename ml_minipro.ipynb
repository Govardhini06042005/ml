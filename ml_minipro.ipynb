{
  "cells": [
    {
      "cell_type": "markdown",
      "metadata": {
        "id": "1BKxbCtwjD_5"
      },
      "source": [
        "ADAPTIVE BOOST REGRESSION"
      ]
    },
    {
      "cell_type": "code",
      "source": [
        "drive.flush_and_unmount()\n"
      ],
      "metadata": {
        "colab": {
          "base_uri": "https://localhost:8080/"
        },
        "id": "5dtNl1pQWHfE",
        "outputId": "2988f4d3-27b6-4bb7-91ae-926695e43fa5"
      },
      "execution_count": null,
      "outputs": [
        {
          "output_type": "stream",
          "name": "stdout",
          "text": [
            "Drive not mounted, so nothing to flush and unmount.\n"
          ]
        }
      ]
    },
    {
      "cell_type": "code",
      "execution_count": null,
      "metadata": {
        "id": "mgwAAH0MfVkp"
      },
      "outputs": [],
      "source": [
        "import pandas as pd\n",
        "from sklearn.model_selection import train_test_split, cross_val_score,GridSearchCV\n",
        "from sklearn.tree import DecisionTreeRegressor\n",
        "from sklearn.ensemble import AdaBoostRegressor\n",
        "from sklearn.svm import SVR\n",
        "import matplotlib.pyplot as plt\n",
        "from sklearn.metrics import mean_squared_error, r2_score,mean_absolute_error\n",
        "from sklearn.preprocessing import StandardScaler\n",
        "from sklearn.linear_model import LinearRegression\n",
        "from sklearn.model_selection import train_test_split\n",
        "import seaborn as sns"
      ]
    },
    {
      "cell_type": "code",
      "execution_count": null,
      "metadata": {
        "id": "6thANbCMfmfp"
      },
      "outputs": [],
      "source": [
        "data = pd.read_csv('/content/drive/MyDrive/ex2/ml.project.csv')\n",
        "data"
      ]
    },
    {
      "cell_type": "code",
      "execution_count": null,
      "metadata": {
        "colab": {
          "base_uri": "https://localhost:8080/",
          "height": 423
        },
        "id": "Pp5p0BDzmY0B",
        "outputId": "3824f784-df07-447c-cc25-b973c52f6179"
      },
      "outputs": [
        {
          "output_type": "execute_result",
          "data": {
            "text/plain": [
              "      Cement  Blast Furnace Slag  Fly Ash  Water  Superplasticizer  \\\n",
              "0      False               False    False  False             False   \n",
              "1      False               False    False  False             False   \n",
              "2      False               False    False  False             False   \n",
              "3      False               False    False  False             False   \n",
              "4      False               False    False  False             False   \n",
              "...      ...                 ...      ...    ...               ...   \n",
              "1025   False               False    False  False             False   \n",
              "1026   False               False    False  False             False   \n",
              "1027   False               False    False  False             False   \n",
              "1028   False               False    False  False             False   \n",
              "1029   False               False    False  False             False   \n",
              "\n",
              "      Coarse Aggregate  Fine Aggregate    Age  Strength  \n",
              "0                False           False  False     False  \n",
              "1                False           False  False     False  \n",
              "2                False           False  False     False  \n",
              "3                False           False  False     False  \n",
              "4                False           False  False     False  \n",
              "...                ...             ...    ...       ...  \n",
              "1025             False           False  False     False  \n",
              "1026             False           False  False     False  \n",
              "1027             False           False  False     False  \n",
              "1028             False           False  False     False  \n",
              "1029             False           False  False     False  \n",
              "\n",
              "[1030 rows x 9 columns]"
            ],
            "text/html": [
              "\n",
              "  <div id=\"df-3e1fe3c3-24c7-436f-9f97-9b17fbf6d590\" class=\"colab-df-container\">\n",
              "    <div>\n",
              "<style scoped>\n",
              "    .dataframe tbody tr th:only-of-type {\n",
              "        vertical-align: middle;\n",
              "    }\n",
              "\n",
              "    .dataframe tbody tr th {\n",
              "        vertical-align: top;\n",
              "    }\n",
              "\n",
              "    .dataframe thead th {\n",
              "        text-align: right;\n",
              "    }\n",
              "</style>\n",
              "<table border=\"1\" class=\"dataframe\">\n",
              "  <thead>\n",
              "    <tr style=\"text-align: right;\">\n",
              "      <th></th>\n",
              "      <th>Cement</th>\n",
              "      <th>Blast Furnace Slag</th>\n",
              "      <th>Fly Ash</th>\n",
              "      <th>Water</th>\n",
              "      <th>Superplasticizer</th>\n",
              "      <th>Coarse Aggregate</th>\n",
              "      <th>Fine Aggregate</th>\n",
              "      <th>Age</th>\n",
              "      <th>Strength</th>\n",
              "    </tr>\n",
              "  </thead>\n",
              "  <tbody>\n",
              "    <tr>\n",
              "      <th>0</th>\n",
              "      <td>False</td>\n",
              "      <td>False</td>\n",
              "      <td>False</td>\n",
              "      <td>False</td>\n",
              "      <td>False</td>\n",
              "      <td>False</td>\n",
              "      <td>False</td>\n",
              "      <td>False</td>\n",
              "      <td>False</td>\n",
              "    </tr>\n",
              "    <tr>\n",
              "      <th>1</th>\n",
              "      <td>False</td>\n",
              "      <td>False</td>\n",
              "      <td>False</td>\n",
              "      <td>False</td>\n",
              "      <td>False</td>\n",
              "      <td>False</td>\n",
              "      <td>False</td>\n",
              "      <td>False</td>\n",
              "      <td>False</td>\n",
              "    </tr>\n",
              "    <tr>\n",
              "      <th>2</th>\n",
              "      <td>False</td>\n",
              "      <td>False</td>\n",
              "      <td>False</td>\n",
              "      <td>False</td>\n",
              "      <td>False</td>\n",
              "      <td>False</td>\n",
              "      <td>False</td>\n",
              "      <td>False</td>\n",
              "      <td>False</td>\n",
              "    </tr>\n",
              "    <tr>\n",
              "      <th>3</th>\n",
              "      <td>False</td>\n",
              "      <td>False</td>\n",
              "      <td>False</td>\n",
              "      <td>False</td>\n",
              "      <td>False</td>\n",
              "      <td>False</td>\n",
              "      <td>False</td>\n",
              "      <td>False</td>\n",
              "      <td>False</td>\n",
              "    </tr>\n",
              "    <tr>\n",
              "      <th>4</th>\n",
              "      <td>False</td>\n",
              "      <td>False</td>\n",
              "      <td>False</td>\n",
              "      <td>False</td>\n",
              "      <td>False</td>\n",
              "      <td>False</td>\n",
              "      <td>False</td>\n",
              "      <td>False</td>\n",
              "      <td>False</td>\n",
              "    </tr>\n",
              "    <tr>\n",
              "      <th>...</th>\n",
              "      <td>...</td>\n",
              "      <td>...</td>\n",
              "      <td>...</td>\n",
              "      <td>...</td>\n",
              "      <td>...</td>\n",
              "      <td>...</td>\n",
              "      <td>...</td>\n",
              "      <td>...</td>\n",
              "      <td>...</td>\n",
              "    </tr>\n",
              "    <tr>\n",
              "      <th>1025</th>\n",
              "      <td>False</td>\n",
              "      <td>False</td>\n",
              "      <td>False</td>\n",
              "      <td>False</td>\n",
              "      <td>False</td>\n",
              "      <td>False</td>\n",
              "      <td>False</td>\n",
              "      <td>False</td>\n",
              "      <td>False</td>\n",
              "    </tr>\n",
              "    <tr>\n",
              "      <th>1026</th>\n",
              "      <td>False</td>\n",
              "      <td>False</td>\n",
              "      <td>False</td>\n",
              "      <td>False</td>\n",
              "      <td>False</td>\n",
              "      <td>False</td>\n",
              "      <td>False</td>\n",
              "      <td>False</td>\n",
              "      <td>False</td>\n",
              "    </tr>\n",
              "    <tr>\n",
              "      <th>1027</th>\n",
              "      <td>False</td>\n",
              "      <td>False</td>\n",
              "      <td>False</td>\n",
              "      <td>False</td>\n",
              "      <td>False</td>\n",
              "      <td>False</td>\n",
              "      <td>False</td>\n",
              "      <td>False</td>\n",
              "      <td>False</td>\n",
              "    </tr>\n",
              "    <tr>\n",
              "      <th>1028</th>\n",
              "      <td>False</td>\n",
              "      <td>False</td>\n",
              "      <td>False</td>\n",
              "      <td>False</td>\n",
              "      <td>False</td>\n",
              "      <td>False</td>\n",
              "      <td>False</td>\n",
              "      <td>False</td>\n",
              "      <td>False</td>\n",
              "    </tr>\n",
              "    <tr>\n",
              "      <th>1029</th>\n",
              "      <td>False</td>\n",
              "      <td>False</td>\n",
              "      <td>False</td>\n",
              "      <td>False</td>\n",
              "      <td>False</td>\n",
              "      <td>False</td>\n",
              "      <td>False</td>\n",
              "      <td>False</td>\n",
              "      <td>False</td>\n",
              "    </tr>\n",
              "  </tbody>\n",
              "</table>\n",
              "<p>1030 rows × 9 columns</p>\n",
              "</div>\n",
              "    <div class=\"colab-df-buttons\">\n",
              "\n",
              "  <div class=\"colab-df-container\">\n",
              "    <button class=\"colab-df-convert\" onclick=\"convertToInteractive('df-3e1fe3c3-24c7-436f-9f97-9b17fbf6d590')\"\n",
              "            title=\"Convert this dataframe to an interactive table.\"\n",
              "            style=\"display:none;\">\n",
              "\n",
              "  <svg xmlns=\"http://www.w3.org/2000/svg\" height=\"24px\" viewBox=\"0 -960 960 960\">\n",
              "    <path d=\"M120-120v-720h720v720H120Zm60-500h600v-160H180v160Zm220 220h160v-160H400v160Zm0 220h160v-160H400v160ZM180-400h160v-160H180v160Zm440 0h160v-160H620v160ZM180-180h160v-160H180v160Zm440 0h160v-160H620v160Z\"/>\n",
              "  </svg>\n",
              "    </button>\n",
              "\n",
              "  <style>\n",
              "    .colab-df-container {\n",
              "      display:flex;\n",
              "      gap: 12px;\n",
              "    }\n",
              "\n",
              "    .colab-df-convert {\n",
              "      background-color: #E8F0FE;\n",
              "      border: none;\n",
              "      border-radius: 50%;\n",
              "      cursor: pointer;\n",
              "      display: none;\n",
              "      fill: #1967D2;\n",
              "      height: 32px;\n",
              "      padding: 0 0 0 0;\n",
              "      width: 32px;\n",
              "    }\n",
              "\n",
              "    .colab-df-convert:hover {\n",
              "      background-color: #E2EBFA;\n",
              "      box-shadow: 0px 1px 2px rgba(60, 64, 67, 0.3), 0px 1px 3px 1px rgba(60, 64, 67, 0.15);\n",
              "      fill: #174EA6;\n",
              "    }\n",
              "\n",
              "    .colab-df-buttons div {\n",
              "      margin-bottom: 4px;\n",
              "    }\n",
              "\n",
              "    [theme=dark] .colab-df-convert {\n",
              "      background-color: #3B4455;\n",
              "      fill: #D2E3FC;\n",
              "    }\n",
              "\n",
              "    [theme=dark] .colab-df-convert:hover {\n",
              "      background-color: #434B5C;\n",
              "      box-shadow: 0px 1px 3px 1px rgba(0, 0, 0, 0.15);\n",
              "      filter: drop-shadow(0px 1px 2px rgba(0, 0, 0, 0.3));\n",
              "      fill: #FFFFFF;\n",
              "    }\n",
              "  </style>\n",
              "\n",
              "    <script>\n",
              "      const buttonEl =\n",
              "        document.querySelector('#df-3e1fe3c3-24c7-436f-9f97-9b17fbf6d590 button.colab-df-convert');\n",
              "      buttonEl.style.display =\n",
              "        google.colab.kernel.accessAllowed ? 'block' : 'none';\n",
              "\n",
              "      async function convertToInteractive(key) {\n",
              "        const element = document.querySelector('#df-3e1fe3c3-24c7-436f-9f97-9b17fbf6d590');\n",
              "        const dataTable =\n",
              "          await google.colab.kernel.invokeFunction('convertToInteractive',\n",
              "                                                    [key], {});\n",
              "        if (!dataTable) return;\n",
              "\n",
              "        const docLinkHtml = 'Like what you see? Visit the ' +\n",
              "          '<a target=\"_blank\" href=https://colab.research.google.com/notebooks/data_table.ipynb>data table notebook</a>'\n",
              "          + ' to learn more about interactive tables.';\n",
              "        element.innerHTML = '';\n",
              "        dataTable['output_type'] = 'display_data';\n",
              "        await google.colab.output.renderOutput(dataTable, element);\n",
              "        const docLink = document.createElement('div');\n",
              "        docLink.innerHTML = docLinkHtml;\n",
              "        element.appendChild(docLink);\n",
              "      }\n",
              "    </script>\n",
              "  </div>\n",
              "\n",
              "\n",
              "<div id=\"df-f79b49bb-c97d-4d31-8b69-9b6ecda4ceef\">\n",
              "  <button class=\"colab-df-quickchart\" onclick=\"quickchart('df-f79b49bb-c97d-4d31-8b69-9b6ecda4ceef')\"\n",
              "            title=\"Suggest charts\"\n",
              "            style=\"display:none;\">\n",
              "\n",
              "<svg xmlns=\"http://www.w3.org/2000/svg\" height=\"24px\"viewBox=\"0 0 24 24\"\n",
              "     width=\"24px\">\n",
              "    <g>\n",
              "        <path d=\"M19 3H5c-1.1 0-2 .9-2 2v14c0 1.1.9 2 2 2h14c1.1 0 2-.9 2-2V5c0-1.1-.9-2-2-2zM9 17H7v-7h2v7zm4 0h-2V7h2v10zm4 0h-2v-4h2v4z\"/>\n",
              "    </g>\n",
              "</svg>\n",
              "  </button>\n",
              "\n",
              "<style>\n",
              "  .colab-df-quickchart {\n",
              "      --bg-color: #E8F0FE;\n",
              "      --fill-color: #1967D2;\n",
              "      --hover-bg-color: #E2EBFA;\n",
              "      --hover-fill-color: #174EA6;\n",
              "      --disabled-fill-color: #AAA;\n",
              "      --disabled-bg-color: #DDD;\n",
              "  }\n",
              "\n",
              "  [theme=dark] .colab-df-quickchart {\n",
              "      --bg-color: #3B4455;\n",
              "      --fill-color: #D2E3FC;\n",
              "      --hover-bg-color: #434B5C;\n",
              "      --hover-fill-color: #FFFFFF;\n",
              "      --disabled-bg-color: #3B4455;\n",
              "      --disabled-fill-color: #666;\n",
              "  }\n",
              "\n",
              "  .colab-df-quickchart {\n",
              "    background-color: var(--bg-color);\n",
              "    border: none;\n",
              "    border-radius: 50%;\n",
              "    cursor: pointer;\n",
              "    display: none;\n",
              "    fill: var(--fill-color);\n",
              "    height: 32px;\n",
              "    padding: 0;\n",
              "    width: 32px;\n",
              "  }\n",
              "\n",
              "  .colab-df-quickchart:hover {\n",
              "    background-color: var(--hover-bg-color);\n",
              "    box-shadow: 0 1px 2px rgba(60, 64, 67, 0.3), 0 1px 3px 1px rgba(60, 64, 67, 0.15);\n",
              "    fill: var(--button-hover-fill-color);\n",
              "  }\n",
              "\n",
              "  .colab-df-quickchart-complete:disabled,\n",
              "  .colab-df-quickchart-complete:disabled:hover {\n",
              "    background-color: var(--disabled-bg-color);\n",
              "    fill: var(--disabled-fill-color);\n",
              "    box-shadow: none;\n",
              "  }\n",
              "\n",
              "  .colab-df-spinner {\n",
              "    border: 2px solid var(--fill-color);\n",
              "    border-color: transparent;\n",
              "    border-bottom-color: var(--fill-color);\n",
              "    animation:\n",
              "      spin 1s steps(1) infinite;\n",
              "  }\n",
              "\n",
              "  @keyframes spin {\n",
              "    0% {\n",
              "      border-color: transparent;\n",
              "      border-bottom-color: var(--fill-color);\n",
              "      border-left-color: var(--fill-color);\n",
              "    }\n",
              "    20% {\n",
              "      border-color: transparent;\n",
              "      border-left-color: var(--fill-color);\n",
              "      border-top-color: var(--fill-color);\n",
              "    }\n",
              "    30% {\n",
              "      border-color: transparent;\n",
              "      border-left-color: var(--fill-color);\n",
              "      border-top-color: var(--fill-color);\n",
              "      border-right-color: var(--fill-color);\n",
              "    }\n",
              "    40% {\n",
              "      border-color: transparent;\n",
              "      border-right-color: var(--fill-color);\n",
              "      border-top-color: var(--fill-color);\n",
              "    }\n",
              "    60% {\n",
              "      border-color: transparent;\n",
              "      border-right-color: var(--fill-color);\n",
              "    }\n",
              "    80% {\n",
              "      border-color: transparent;\n",
              "      border-right-color: var(--fill-color);\n",
              "      border-bottom-color: var(--fill-color);\n",
              "    }\n",
              "    90% {\n",
              "      border-color: transparent;\n",
              "      border-bottom-color: var(--fill-color);\n",
              "    }\n",
              "  }\n",
              "</style>\n",
              "\n",
              "  <script>\n",
              "    async function quickchart(key) {\n",
              "      const quickchartButtonEl =\n",
              "        document.querySelector('#' + key + ' button');\n",
              "      quickchartButtonEl.disabled = true;  // To prevent multiple clicks.\n",
              "      quickchartButtonEl.classList.add('colab-df-spinner');\n",
              "      try {\n",
              "        const charts = await google.colab.kernel.invokeFunction(\n",
              "            'suggestCharts', [key], {});\n",
              "      } catch (error) {\n",
              "        console.error('Error during call to suggestCharts:', error);\n",
              "      }\n",
              "      quickchartButtonEl.classList.remove('colab-df-spinner');\n",
              "      quickchartButtonEl.classList.add('colab-df-quickchart-complete');\n",
              "    }\n",
              "    (() => {\n",
              "      let quickchartButtonEl =\n",
              "        document.querySelector('#df-f79b49bb-c97d-4d31-8b69-9b6ecda4ceef button');\n",
              "      quickchartButtonEl.style.display =\n",
              "        google.colab.kernel.accessAllowed ? 'block' : 'none';\n",
              "    })();\n",
              "  </script>\n",
              "</div>\n",
              "    </div>\n",
              "  </div>\n"
            ]
          },
          "metadata": {},
          "execution_count": 3
        }
      ],
      "source": [
        "data.isnull()"
      ]
    },
    {
      "cell_type": "code",
      "execution_count": null,
      "metadata": {
        "id": "-x7f1rl_fmde"
      },
      "outputs": [],
      "source": [
        "X = data.drop('Strength', axis=1)\n",
        "y = data['Strength']"
      ]
    },
    {
      "cell_type": "code",
      "execution_count": null,
      "metadata": {
        "id": "mhyxHIIrfmSB"
      },
      "outputs": [],
      "source": [
        "X_train, X_test, y_train, y_test = train_test_split(X, y, test_size=0.2, random_state=42)\n"
      ]
    },
    {
      "cell_type": "code",
      "execution_count": null,
      "metadata": {
        "id": "8SMGvIjKfmOj"
      },
      "outputs": [],
      "source": [
        "scaler = StandardScaler()\n",
        "X_train_scaled = scaler.fit_transform(X_train)\n",
        "X_test_scaled = scaler.transform(X_test)"
      ]
    },
    {
      "cell_type": "code",
      "execution_count": null,
      "metadata": {
        "id": "8TAj90pIgCPo"
      },
      "outputs": [],
      "source": [
        "ada_boost_model = AdaBoostRegressor(base_estimator=DecisionTreeRegressor(), n_estimators=50, learning_rate=1.0, random_state=42)"
      ]
    },
    {
      "cell_type": "code",
      "execution_count": null,
      "metadata": {
        "colab": {
          "base_uri": "https://localhost:8080/"
        },
        "id": "rO36VpEYgGoR",
        "outputId": "0fe76e1a-7be9-47bb-bd75-087768508609"
      },
      "outputs": [
        {
          "output_type": "stream",
          "name": "stderr",
          "text": [
            "/usr/local/lib/python3.10/dist-packages/sklearn/ensemble/_base.py:166: FutureWarning: `base_estimator` was renamed to `estimator` in version 1.2 and will be removed in 1.4.\n",
            "  warnings.warn(\n",
            "/usr/local/lib/python3.10/dist-packages/sklearn/ensemble/_base.py:166: FutureWarning: `base_estimator` was renamed to `estimator` in version 1.2 and will be removed in 1.4.\n",
            "  warnings.warn(\n",
            "/usr/local/lib/python3.10/dist-packages/sklearn/ensemble/_base.py:166: FutureWarning: `base_estimator` was renamed to `estimator` in version 1.2 and will be removed in 1.4.\n",
            "  warnings.warn(\n",
            "/usr/local/lib/python3.10/dist-packages/sklearn/ensemble/_base.py:166: FutureWarning: `base_estimator` was renamed to `estimator` in version 1.2 and will be removed in 1.4.\n",
            "  warnings.warn(\n",
            "/usr/local/lib/python3.10/dist-packages/sklearn/ensemble/_base.py:166: FutureWarning: `base_estimator` was renamed to `estimator` in version 1.2 and will be removed in 1.4.\n",
            "  warnings.warn(\n",
            "/usr/local/lib/python3.10/dist-packages/sklearn/ensemble/_base.py:166: FutureWarning: `base_estimator` was renamed to `estimator` in version 1.2 and will be removed in 1.4.\n",
            "  warnings.warn(\n"
          ]
        }
      ],
      "source": [
        "cv_scores = -cross_val_score(ada_boost_model, X_train_scaled, y_train, cv=5, scoring='neg_mean_squared_error')\n",
        "ada_boost_model.fit(X_train_scaled, y_train)\n",
        "ab_pred = ada_boost_model.predict(X_test_scaled)\n",
        "#print(f'Cross-Validation Mean Squared Error: {cv_scores.mean()}')"
      ]
    },
    {
      "cell_type": "code",
      "execution_count": null,
      "metadata": {
        "id": "XHGkenb1gUSF"
      },
      "outputs": [],
      "source": [
        "#Adaptive boosting\n",
        "mae_ada=mean_absolute_error(y_test,ab_pred)\n",
        "mse_ada = mean_squared_error(y_test, ab_pred)\n",
        "r2_ada = r2_score(y_test, ab_pred)\n",
        "ape_ada= mean_absolute_error(y_test, ab_pred) / y_test.mean() * 100\n",
        "rmse_ada = mean_squared_error(y_test, ab_pred, squared=False)"
      ]
    },
    {
      "cell_type": "code",
      "execution_count": null,
      "metadata": {
        "colab": {
          "base_uri": "https://localhost:8080/"
        },
        "id": "it92eXa_aU93",
        "outputId": "057de9aa-2c7b-43c2-eca4-457b3dbea62e"
      },
      "outputs": [
        {
          "output_type": "stream",
          "name": "stdout",
          "text": [
            "Mean absolute error: 4.037870053386233\n",
            "Mean Squared Error on Test Set: 35.697498603792205\n",
            "R-squared on Test Set: 0.8614641072417406\n",
            "Absolute Percentage Error: 11.32%\n",
            "Root mean squared Error: 5.974738371158373\n"
          ]
        }
      ],
      "source": [
        "print(f\"Mean absolute error: {mae_ada}\")\n",
        "print(f'Mean Squared Error on Test Set: {mse_ada}')\n",
        "print(f'R-squared on Test Set: {r2_ada}')\n",
        "print(f'Absolute Percentage Error: {ape_ada:.2f}%')\n",
        "print(f'Root mean squared Error: {rmse_ada}')\n"
      ]
    },
    {
      "cell_type": "markdown",
      "metadata": {
        "id": "ubgBm9qij9Fm"
      },
      "source": [
        "MULTIPLE LINEAR REGRESSION"
      ]
    },
    {
      "cell_type": "code",
      "execution_count": null,
      "metadata": {
        "id": "tE_-3LuMkFWC"
      },
      "outputs": [],
      "source": [
        "df = pd.read_csv('/content/drive/MyDrive/ex2/ml.project.csv')"
      ]
    },
    {
      "cell_type": "code",
      "execution_count": null,
      "metadata": {
        "colab": {
          "base_uri": "https://localhost:8080/"
        },
        "id": "6X8DzYwelYRP",
        "outputId": "e8c00b85-ec34-4ef1-d8f3-d53ceee8d377"
      },
      "outputs": [
        {
          "output_type": "stream",
          "name": "stdout",
          "text": [
            "(1030, 8)\n",
            "(1030,)\n"
          ]
        }
      ],
      "source": [
        "x=df.iloc[:,0:8]\n",
        "y=df[\"Strength\"]\n",
        "print(x.shape)\n",
        "print(y.shape)"
      ]
    },
    {
      "cell_type": "code",
      "execution_count": null,
      "metadata": {
        "id": "59YJKrChlYH8"
      },
      "outputs": [],
      "source": [
        "x1_train,x1_test,y1_train,y1_test=train_test_split(x,y,test_size=0.3, random_state=42)"
      ]
    },
    {
      "cell_type": "code",
      "execution_count": null,
      "metadata": {
        "colab": {
          "base_uri": "https://localhost:8080/",
          "height": 74
        },
        "id": "yFFQVanflX-G",
        "outputId": "0f209e69-531d-436d-e45d-0b637b847716"
      },
      "outputs": [
        {
          "output_type": "execute_result",
          "data": {
            "text/plain": [
              "LinearRegression()"
            ],
            "text/html": [
              "<style>#sk-container-id-1 {color: black;background-color: white;}#sk-container-id-1 pre{padding: 0;}#sk-container-id-1 div.sk-toggleable {background-color: white;}#sk-container-id-1 label.sk-toggleable__label {cursor: pointer;display: block;width: 100%;margin-bottom: 0;padding: 0.3em;box-sizing: border-box;text-align: center;}#sk-container-id-1 label.sk-toggleable__label-arrow:before {content: \"▸\";float: left;margin-right: 0.25em;color: #696969;}#sk-container-id-1 label.sk-toggleable__label-arrow:hover:before {color: black;}#sk-container-id-1 div.sk-estimator:hover label.sk-toggleable__label-arrow:before {color: black;}#sk-container-id-1 div.sk-toggleable__content {max-height: 0;max-width: 0;overflow: hidden;text-align: left;background-color: #f0f8ff;}#sk-container-id-1 div.sk-toggleable__content pre {margin: 0.2em;color: black;border-radius: 0.25em;background-color: #f0f8ff;}#sk-container-id-1 input.sk-toggleable__control:checked~div.sk-toggleable__content {max-height: 200px;max-width: 100%;overflow: auto;}#sk-container-id-1 input.sk-toggleable__control:checked~label.sk-toggleable__label-arrow:before {content: \"▾\";}#sk-container-id-1 div.sk-estimator input.sk-toggleable__control:checked~label.sk-toggleable__label {background-color: #d4ebff;}#sk-container-id-1 div.sk-label input.sk-toggleable__control:checked~label.sk-toggleable__label {background-color: #d4ebff;}#sk-container-id-1 input.sk-hidden--visually {border: 0;clip: rect(1px 1px 1px 1px);clip: rect(1px, 1px, 1px, 1px);height: 1px;margin: -1px;overflow: hidden;padding: 0;position: absolute;width: 1px;}#sk-container-id-1 div.sk-estimator {font-family: monospace;background-color: #f0f8ff;border: 1px dotted black;border-radius: 0.25em;box-sizing: border-box;margin-bottom: 0.5em;}#sk-container-id-1 div.sk-estimator:hover {background-color: #d4ebff;}#sk-container-id-1 div.sk-parallel-item::after {content: \"\";width: 100%;border-bottom: 1px solid gray;flex-grow: 1;}#sk-container-id-1 div.sk-label:hover label.sk-toggleable__label {background-color: #d4ebff;}#sk-container-id-1 div.sk-serial::before {content: \"\";position: absolute;border-left: 1px solid gray;box-sizing: border-box;top: 0;bottom: 0;left: 50%;z-index: 0;}#sk-container-id-1 div.sk-serial {display: flex;flex-direction: column;align-items: center;background-color: white;padding-right: 0.2em;padding-left: 0.2em;position: relative;}#sk-container-id-1 div.sk-item {position: relative;z-index: 1;}#sk-container-id-1 div.sk-parallel {display: flex;align-items: stretch;justify-content: center;background-color: white;position: relative;}#sk-container-id-1 div.sk-item::before, #sk-container-id-1 div.sk-parallel-item::before {content: \"\";position: absolute;border-left: 1px solid gray;box-sizing: border-box;top: 0;bottom: 0;left: 50%;z-index: -1;}#sk-container-id-1 div.sk-parallel-item {display: flex;flex-direction: column;z-index: 1;position: relative;background-color: white;}#sk-container-id-1 div.sk-parallel-item:first-child::after {align-self: flex-end;width: 50%;}#sk-container-id-1 div.sk-parallel-item:last-child::after {align-self: flex-start;width: 50%;}#sk-container-id-1 div.sk-parallel-item:only-child::after {width: 0;}#sk-container-id-1 div.sk-dashed-wrapped {border: 1px dashed gray;margin: 0 0.4em 0.5em 0.4em;box-sizing: border-box;padding-bottom: 0.4em;background-color: white;}#sk-container-id-1 div.sk-label label {font-family: monospace;font-weight: bold;display: inline-block;line-height: 1.2em;}#sk-container-id-1 div.sk-label-container {text-align: center;}#sk-container-id-1 div.sk-container {/* jupyter's `normalize.less` sets `[hidden] { display: none; }` but bootstrap.min.css set `[hidden] { display: none !important; }` so we also need the `!important` here to be able to override the default hidden behavior on the sphinx rendered scikit-learn.org. See: https://github.com/scikit-learn/scikit-learn/issues/21755 */display: inline-block !important;position: relative;}#sk-container-id-1 div.sk-text-repr-fallback {display: none;}</style><div id=\"sk-container-id-1\" class=\"sk-top-container\"><div class=\"sk-text-repr-fallback\"><pre>LinearRegression()</pre><b>In a Jupyter environment, please rerun this cell to show the HTML representation or trust the notebook. <br />On GitHub, the HTML representation is unable to render, please try loading this page with nbviewer.org.</b></div><div class=\"sk-container\" hidden><div class=\"sk-item\"><div class=\"sk-estimator sk-toggleable\"><input class=\"sk-toggleable__control sk-hidden--visually\" id=\"sk-estimator-id-1\" type=\"checkbox\" checked><label for=\"sk-estimator-id-1\" class=\"sk-toggleable__label sk-toggleable__label-arrow\">LinearRegression</label><div class=\"sk-toggleable__content\"><pre>LinearRegression()</pre></div></div></div></div></div>"
            ]
          },
          "metadata": {},
          "execution_count": 14
        }
      ],
      "source": [
        "model=LinearRegression()\n",
        "model.fit(x1_train,y1_train)"
      ]
    },
    {
      "cell_type": "code",
      "execution_count": null,
      "metadata": {
        "id": "hUetpT8QlX0c"
      },
      "outputs": [],
      "source": [
        "ml_pred=model.predict(x1_test)\n",
        "#y_pred"
      ]
    },
    {
      "cell_type": "code",
      "execution_count": null,
      "metadata": {
        "id": "VYYAL0Y2luK6"
      },
      "outputs": [],
      "source": [
        "#multiple linear regression\n",
        "mae_multi=mean_absolute_error(y1_test,ml_pred)\n",
        "mse_multi = mean_squared_error(y1_test, ml_pred)\n",
        "r2_multi = r2_score(y1_test, ml_pred)\n",
        "ape_multi = mean_absolute_error(y1_test, ml_pred) / y1_test.mean() * 100\n",
        "rmse_multi=mean_squared_error(y1_test, ml_pred, squared=False)"
      ]
    },
    {
      "cell_type": "code",
      "execution_count": null,
      "metadata": {
        "colab": {
          "base_uri": "https://localhost:8080/"
        },
        "id": "Y5i_aQYJlgui",
        "outputId": "5a6a2176-46f3-4433-e666-f28fbf2da3ca"
      },
      "outputs": [
        {
          "output_type": "stream",
          "name": "stdout",
          "text": [
            "Mean absolute error: 8.298580847947502\n",
            "Mean Squared Error on Test Set: 109.75080797014401\n",
            "R-squared on Test Set: 0.5943782479239206\n",
            "Absolute Percentage Error: 23.69%\n",
            "Root mean squared Error: 10.47620198211852\n"
          ]
        }
      ],
      "source": [
        "print(f\"Mean absolute error: {mae_multi}\")\n",
        "print(f'Mean Squared Error on Test Set: {mse_multi}')\n",
        "print(f'R-squared on Test Set: {r2_multi}')\n",
        "print(f'Absolute Percentage Error: {ape_multi:.2f}%')\n",
        "print(f'Root mean squared Error: {rmse_multi}')"
      ]
    },
    {
      "cell_type": "markdown",
      "metadata": {
        "id": "ii9E8yHeu0y_"
      },
      "source": [
        "GS-SVR"
      ]
    },
    {
      "cell_type": "code",
      "execution_count": null,
      "metadata": {
        "id": "qukkS8w6xB_O"
      },
      "outputs": [],
      "source": [
        "data = pd.read_csv('/content/drive/MyDrive/ex2/ml.project.csv')"
      ]
    },
    {
      "cell_type": "code",
      "execution_count": null,
      "metadata": {
        "id": "6H6jFDWZYg7n"
      },
      "outputs": [],
      "source": [
        "X = data.drop('Strength', axis=1)\n",
        "y = data['Strength']"
      ]
    },
    {
      "cell_type": "code",
      "execution_count": null,
      "metadata": {
        "id": "Hs3liVH2Yg4F"
      },
      "outputs": [],
      "source": [
        "X2_train, X2_test, y2_train, y2_test = train_test_split(X, y, test_size=0.2, random_state=42)"
      ]
    },
    {
      "cell_type": "code",
      "execution_count": null,
      "metadata": {
        "id": "mWjFap7SYg0w"
      },
      "outputs": [],
      "source": [
        "scaler = StandardScaler()\n",
        "X_train_scaled = scaler.fit_transform(X2_train)\n",
        "X_test_scaled = scaler.transform(X2_test)"
      ]
    },
    {
      "cell_type": "code",
      "execution_count": null,
      "metadata": {
        "id": "RGScQmGvYgxU"
      },
      "outputs": [],
      "source": [
        "svm_model = SVR()"
      ]
    },
    {
      "cell_type": "code",
      "execution_count": null,
      "metadata": {
        "id": "23ohvghvYgoB"
      },
      "outputs": [],
      "source": [
        "param_grid = {\n",
        "    'C': [0.1, 1, 10],\n",
        "    'kernel': ['linear', 'rbf', 'poly'],\n",
        "    'gamma': ['scale', 'auto', 0.1, 1],\n",
        "}"
      ]
    },
    {
      "cell_type": "code",
      "execution_count": null,
      "metadata": {
        "id": "t-fiWAGlYzlT"
      },
      "outputs": [],
      "source": [
        "grid_search=GridSearchCV(estimator=svm_model, param_grid=param_grid, scoring='neg_mean_squared_error', cv=5)"
      ]
    },
    {
      "cell_type": "code",
      "execution_count": null,
      "metadata": {
        "id": "_TzdFnkuZAAC"
      },
      "outputs": [],
      "source": [
        "grid_search = GridSearchCV(estimator=svm_model, param_grid=param_grid, scoring='neg_mean_squared_error', cv=5)\n",
        "grid_search.fit(X_train_scaled, y2_train)\n",
        "\n",
        "best_svm_model = grid_search.best_estimator_\n",
        "\n",
        "svr_pred = best_svm_model.predict(X_test_scaled)"
      ]
    },
    {
      "cell_type": "code",
      "execution_count": null,
      "metadata": {
        "id": "139HElx8ZS-b"
      },
      "outputs": [],
      "source": [
        "#GS-SVR\n",
        "mae_gs=mean_absolute_error(y2_test,svr_pred)\n",
        "mse_gs = mean_squared_error(y2_test, svr_pred)\n",
        "r2_gs = r2_score(y2_test, svr_pred)\n",
        "ape_gs= mean_absolute_error(y2_test, svr_pred) / y_test.mean() * 100\n",
        "rmse_gs=mean_squared_error(y2_test, svr_pred, squared=False)"
      ]
    },
    {
      "cell_type": "code",
      "execution_count": null,
      "metadata": {
        "colab": {
          "base_uri": "https://localhost:8080/"
        },
        "id": "l8LOMSgNaOPa",
        "outputId": "e5541637-6658-494d-df8d-bc7a07227d34"
      },
      "outputs": [
        {
          "output_type": "stream",
          "name": "stdout",
          "text": [
            "Mean absolute error: 5.2564518192420655\n",
            "Mean Squared Error on Test Set: 51.06315606992866\n",
            "R-squared on Test Set: 0.8018326160127531\n",
            "Absolute Percentage Error: 14.74%\n",
            "Root mean squared Error: 7.145848869793474\n"
          ]
        }
      ],
      "source": [
        "from re import M\n",
        "#error metrics\n",
        "print(f\"Mean absolute error: {mae_gs}\")\n",
        "print(f'Mean Squared Error on Test Set: {mse_gs}')\n",
        "print(f'R-squared on Test Set: {r2_gs}')\n",
        "print(f'Absolute Percentage Error: {ape_gs:.2f}%')\n",
        "print(f'Root mean squared Error: {rmse_gs}')"
      ]
    },
    {
      "cell_type": "code",
      "source": [
        "import matplotlib.pyplot as plt\n",
        "\n",
        "# Plotting the training data\n",
        "plt.figure(figsize=(10, 5))\n",
        "plt.scatter(y2_train, best_svm_model.predict(X_train_scaled), color='blue', label='Training Data')\n",
        "\n",
        "# Plotting the testing data\n",
        "plt.scatter(y2_test, svr_pred, color='red', label='Testing Data')\n",
        "\n",
        "# Plotting the diagonal line\n",
        "plt.plot([min(y), max(y)], [min(y), max(y)], 'k--', lw=4, label='Ideal Prediction')\n",
        "\n",
        "plt.title('SVR: Actual vs Predicted')\n",
        "plt.xlabel('Actual Strength')\n",
        "plt.ylabel('Predicted Strength')\n",
        "plt.legend()\n",
        "plt.grid(True)\n",
        "plt.show()\n"
      ],
      "metadata": {
        "id": "d62rMivlRqP1"
      },
      "execution_count": null,
      "outputs": []
    },
    {
      "cell_type": "markdown",
      "metadata": {
        "id": "aP8SH6gFukKP"
      },
      "source": [
        "RANDOM FOREST"
      ]
    },
    {
      "cell_type": "code",
      "execution_count": null,
      "metadata": {
        "colab": {
          "base_uri": "https://localhost:8080/"
        },
        "id": "PRsyCYXRtRVa",
        "outputId": "c1b98bef-7155-4322-b26f-5ea58f850693"
      },
      "outputs": [
        {
          "output_type": "stream",
          "name": "stdout",
          "text": [
            "Mean Absolute Error: 3.734132387309294\n",
            "Mean Squared Error: 29.847015251758403\n",
            "R-squared: 0.8841688335094583\n",
            "Root Mean Squared Error: 5.463242192302882\n",
            "Absolute Percentage Error: 12.32%\n",
            "Predicted Concrete Strength: 39.8751\n"
          ]
        },
        {
          "output_type": "stream",
          "name": "stderr",
          "text": [
            "/usr/local/lib/python3.10/dist-packages/sklearn/base.py:439: UserWarning: X does not have valid feature names, but StandardScaler was fitted with feature names\n",
            "  warnings.warn(\n"
          ]
        }
      ],
      "source": [
        "import pandas as pd\n",
        "from sklearn.model_selection import train_test_split, cross_val_score\n",
        "from sklearn.ensemble import RandomForestRegressor\n",
        "from sklearn.metrics import mean_squared_error, mean_absolute_error, r2_score\n",
        "from sklearn.preprocessing import StandardScaler\n",
        "import numpy as np\n",
        "\n",
        "# Load your dataset\n",
        "data = pd.read_csv(\"/content/drive/MyDrive/ex2/ml.project.csv\")\n",
        "\n",
        "# Assuming the last column is the target variable (concrete strength)\n",
        "X = data.iloc[:, :-1]  # Features\n",
        "y = data.iloc[:, -1]    # Target variable\n",
        "\n",
        "# Split the dataset into training and testing sets\n",
        "X_train, X_test, y_train, y_test = train_test_split(X, y, test_size=0.2, random_state=42)\n",
        "\n",
        "# Standardize the data (optional but often recommended for ensemble algorithms)\n",
        "scaler = StandardScaler()\n",
        "X_train = scaler.fit_transform(X_train)\n",
        "X_test = scaler.transform(X_test)\n",
        "\n",
        "\n",
        "random_forest_model = RandomForestRegressor(n_estimators=100, random_state=42)\n",
        "\n",
        "# Train the model\n",
        "random_forest_model.fit(X_train, y_train)\n",
        "\n",
        "predictions = random_forest_model.predict(X_test)\n",
        "\n",
        "mae_rf = mean_absolute_error(y_test, predictions)\n",
        "mse_rf = mean_squared_error(y_test, predictions)\n",
        "r2_rf = r2_score(y_test, predictions)\n",
        "rmse_rf = np.sqrt(mse_rf)\n",
        "\n",
        "print(f'Mean Absolute Error: {mae_rf}')\n",
        "print(f'Mean Squared Error: {mse_rf}')\n",
        "print(f'R-squared: {r2_rf}')\n",
        "print(f'Root Mean Squared Error: {rmse_rf}')\n",
        "\n",
        "ape_rf = np.mean(np.abs((y_test - predictions) / y_test)) * 100\n",
        "print(f'Absolute Percentage Error: {ape_rf:.2f}%')\n",
        "\n",
        "# Cross-validation\n",
        "cv_scores = cross_val_score(random_forest_model, X, y, cv=5, scoring='neg_mean_squared_error')\n",
        "cv_mse_mean = -cv_scores.mean()\n",
        "cv_mse_std = cv_scores.std()\n",
        "\n",
        "new_data_point = [260.9, 0.0, 0.0, 175.6, 11.3, 989.6, 788.9, 28]\n",
        "new_data = scaler.transform([new_data_point])\n",
        "predicted_strength = random_forest_model.predict(new_data)\n",
        "print(f'Predicted Concrete Strength: {predicted_strength[0]}')"
      ]
    },
    {
      "cell_type": "code",
      "execution_count": null,
      "metadata": {
        "colab": {
          "base_uri": "https://localhost:8080/",
          "height": 410
        },
        "id": "ze07QEkhUmFH",
        "outputId": "91bc6f2e-65cf-4f3d-8ccd-503136b0fa5b"
      },
      "outputs": [
        {
          "output_type": "display_data",
          "data": {
            "text/plain": [
              "<Figure size 700x400 with 1 Axes>"
            ],
            "image/png": "[encoded data removed]"
          },
          "metadata": {}
        }
      ],
      "source": [
        "\n",
        "mae_dict = {\n",
        "    'Random Forest': mae_rf,\n",
        "    'GS-SVR': mae_gs,\n",
        "    'Multiple Regression': mae_multi,\n",
        "    'Adaptive Boosting': mae_ada\n",
        "}\n",
        "\n",
        "# Convert the dictionary to a DataFrame\n",
        "mae_df = pd.DataFrame(list(mae_dict.items()), columns=['Algorithm', 'Mean Absolute Error'])\n",
        "\n",
        "# Plotting the bar chart\n",
        "plt.figure(figsize=(7, 4))\n",
        "sns.barplot(x='Algorithm', y='Mean Absolute Error', data=mae_df, palette='viridis')\n",
        "plt.title('Mean Absolute Error for Different Algorithms')\n",
        "plt.xlabel('Algorithm')\n",
        "plt.ylabel('Mean Absolute Error')\n",
        "plt.show()\n"
      ]
    },
    {
      "cell_type": "code",
      "execution_count": null,
      "metadata": {
        "colab": {
          "base_uri": "https://localhost:8080/",
          "height": 410
        },
        "id": "7w7GZe3XXKiY",
        "outputId": "8b6aaec8-14fe-4413-ae73-aedc248768f4"
      },
      "outputs": [
        {
          "output_type": "display_data",
          "data": {
            "text/plain": [
              "<Figure size 700x400 with 1 Axes>"
            ],
            "image/png": "[encoded data removed]"
          },
          "metadata": {}
        }
      ],
      "source": [
        "mse_dict = {\n",
        "    'Random Forest': mse_rf,\n",
        "    'GS-SVR': mse_gs,\n",
        "    'Multiple Regression': mse_multi,\n",
        "    'Adaptive Boosting': mse_ada\n",
        "}\n",
        "\n",
        "# Convert the dictionary to a DataFrame\n",
        "mse_df = pd.DataFrame(list(mse_dict.items()), columns=['Algorithm', 'Mean Squared Error'])\n",
        "\n",
        "# Plotting the bar chart\n",
        "plt.figure(figsize=(7, 4))\n",
        "sns.barplot(x='Algorithm', y='Mean Squared Error', data=mse_df, palette='viridis')\n",
        "plt.title('Mean Squared Error for Different Algorithms')\n",
        "plt.xlabel('Algorithm')\n",
        "plt.ylabel('Mean Squared Error')\n",
        "plt.show()"
      ]
    },
    {
      "cell_type": "code",
      "execution_count": null,
      "metadata": {
        "colab": {
          "base_uri": "https://localhost:8080/",
          "height": 410
        },
        "id": "a3JwqbUvXaYT",
        "outputId": "7974c118-20f1-4c23-a90d-1f9d8238ccf1"
      },
      "outputs": [
        {
          "output_type": "display_data",
          "data": {
            "text/plain": [
              "<Figure size 700x400 with 1 Axes>"
            ],
            "image/png": "[encoded data removed]"
          },
          "metadata": {}
        }
      ],
      "source": [
        "\n",
        "R2_dict = {\n",
        "    'Random Forest': r2_rf,\n",
        "    'GS-SVR': r2_gs,\n",
        "    'Multiple Regression': r2_multi,\n",
        "    'Adaptive Boosting': r2_ada\n",
        "}\n",
        "\n",
        "# Convert the dictionary to a DataFrame\n",
        "R2_df = pd.DataFrame(list(R2_dict.items()), columns=['Algorithm', 'R-Squared Error'])\n",
        "\n",
        "# Plotting the bar chart\n",
        "plt.figure(figsize=(7, 4))\n",
        "sns.barplot(x='Algorithm', y='R-Squared Error', data=R2_df, palette='viridis')\n",
        "plt.title('R-Squared Error for Different Algorithms')\n",
        "plt.xlabel('Algorithm')\n",
        "plt.ylabel('R-Squared Error')\n",
        "plt.show()"
      ]
    },
    {
      "cell_type": "code",
      "source": [
        "ape_dict = {\n",
        "    'Random Forest': ape_rf,\n",
        "    'GS-SVR': ape_gs,\n",
        "    'Multiple Regression': ape_multi,\n",
        "    'Adaptive Boosting': ape_ada\n",
        "}\n",
        "\n",
        "# Convert the dictionary to a DataFrame\n",
        "ape_df = pd.DataFrame(list(ape_dict.items()), columns=['Algorithm', 'Absolute Percentage Error'])\n",
        "\n",
        "# Plotting the bar chart\n",
        "plt.figure(figsize=(7, 4))\n",
        "sns.barplot(x='Algorithm', y='Absolute Percentage Error', data=ape_df, palette='viridis')\n",
        "plt.title('Absolute Percentage Error for Different Algorithms')\n",
        "plt.xlabel('Algorithm')\n",
        "plt.ylabel('Absolute Percentage Error')\n",
        "plt.show()"
      ],
      "metadata": {
        "id": "ql4fqjTUXyHO",
        "colab": {
          "base_uri": "https://localhost:8080/",
          "height": 410
        },
        "outputId": "a731aa47-449c-4d9b-e7ac-78a2fb26f889"
      },
      "execution_count": null,
      "outputs": [
        {
          "output_type": "display_data",
          "data": {
            "text/plain": [
              "<Figure size 700x400 with 1 Axes>"
            ],
            "image/png": "[encoded data removed]"
          },
          "metadata": {}
        }
      ]
    },
    {
      "cell_type": "code",
      "source": [
        "rmse_dict = {\n",
        "    'Random Forest': rmse_rf,\n",
        "    'GS-SVR': rmse_gs,\n",
        "    'Multiple Regression': rmse_multi,\n",
        "    'Adaptive Boosting': rmse_ada\n",
        "}\n",
        "\n",
        "# Convert the dictionary to a DataFrame\n",
        "rmse_df = pd.DataFrame(list(rmse_dict.items()), columns=['Algorithm', 'Root Mean Squared Error'])\n",
        "\n",
        "# Plotting the bar chart\n",
        "plt.figure(figsize=(7, 4))\n",
        "sns.barplot(x='Algorithm', y='Root Mean Squared Error', data=rmse_df, palette='viridis')\n",
        "plt.title('Root Mean Squared Error for Different Algorithms')\n",
        "plt.xlabel('Algorithm')\n",
        "plt.ylabel('Root Mean Squared Error')\n",
        "plt.show()"
      ],
      "metadata": {
        "id": "7Dj-RzkbXyAs",
        "colab": {
          "base_uri": "https://localhost:8080/",
          "height": 410
        },
        "outputId": "2acf0bb5-e5ef-41f0-8f45-58467845a9c9"
      },
      "execution_count": null,
      "outputs": [
        {
          "output_type": "display_data",
          "data": {
            "text/plain": [
              "<Figure size 700x400 with 1 Axes>"
            ],
            "image/png": "[encoded data removed]"
          },
          "metadata": {}
        }
      ]
    },
    {
      "cell_type": "code",
      "source": [],
      "metadata": {
        "id": "NBIX_JjPXx7T"
      },
      "execution_count": null,
      "outputs": []
    },
    {
      "cell_type": "code",
      "source": [],
      "metadata": {
        "id": "-6YgRYsIXxyS"
      },
      "execution_count": null,
      "outputs": []
    }
  ],
  "metadata": {
    "colab": {
      "provenance": []
    },
    "kernelspec": {
      "display_name": "Python 3",
      "name": "python3"
    },
    "language_info": {
      "name": "python"
    }
  },
  "nbformat": 4,
  "nbformat_minor": 0
}